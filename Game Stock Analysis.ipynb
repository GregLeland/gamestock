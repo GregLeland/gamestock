{
 "cells": [
  {
   "cell_type": "markdown",
   "metadata": {},
   "source": [
    "# Introduction\n",
    "\n",
    "This project is based around getting real-time stock information and running a sentiment analysis on a recent major news article to see if there are any correlations between media coverage and current stock prices. It is currently a work in progress.\n",
    "\n",
    "This project currently utilizes Python 3.x, NLTK's Vader Sentiment Intensity Analyzer, and web scraping with the Requests library and Beautiful Soup."
   ]
  },
  {
   "cell_type": "code",
   "execution_count": 1,
   "metadata": {},
   "outputs": [],
   "source": [
    "import requests\n",
    "from bs4 import BeautifulSoup as bs\n",
    "from nltk.sentiment.vader import SentimentIntensityAnalyzer as SIA"
   ]
  },
  {
   "cell_type": "markdown",
   "metadata": {},
   "source": [
    "## Importing Dependencies"
   ]
  },
  {
   "cell_type": "code",
   "execution_count": 3,
   "metadata": {},
   "outputs": [],
   "source": [
    "# LIST OF STOCK TICKERS FOR EACH GAME COMPANY\n",
    "stockList = ['NTDOY',\n",
    "             'EA',\n",
    "             'UBSFY',\n",
    "             'ATVI',\n",
    "             'SGAMY',\n",
    "             'TTWO',\n",
    "             'SQNXF',\n",
    "             'NCBDF']\n",
    "\n",
    "# LIST OF GAME COMAPNIES\n",
    "gcList = ['Nintendo',\n",
    "          'Electronic Arts', \n",
    "          'Ubisoft',\n",
    "          'Activision Blizzard',\n",
    "          'Sega Sammy Holdings',\n",
    "          'Take-two Interactive',\n",
    "          'Square Enix',\n",
    "          'Bandai Namco']"
   ]
  },
  {
   "cell_type": "markdown",
   "metadata": {},
   "source": [
    "## Wrote a function to collect stock information"
   ]
  },
  {
   "cell_type": "code",
   "execution_count": 9,
   "metadata": {},
   "outputs": [],
   "source": [
    "# STOCK INFO FUNCTION\n",
    "def stockInfo(stock):\n",
    "    stockDict = {}\n",
    "    if stock == 'NTDOY':\n",
    "        stockDict.update( {'company' : 'Nintendo'} )\n",
    "    elif stock == 'EA':\n",
    "        stockDict.update( {'company' : 'Electronic Arts'} )\n",
    "    elif stock == 'UBSFY':\n",
    "        stockDict.update( {'company' : 'Ubisoft'} )\n",
    "    elif stock == 'ATVI':\n",
    "        stockDict.update( {'company' : 'Activision Blizzard'} )\n",
    "    elif stock == 'SGAMY':\n",
    "        stockDict.update( {'company' : 'Sega Sammy Holdings'} )\n",
    "    elif stock == 'TTWO':\n",
    "        stockDict.update( {'company' : 'Take-two Interactive'} )\n",
    "    elif stock == 'SQNXF':\n",
    "        stockDict.update( {'company' : 'Square Enix'} )\n",
    "    elif stock == 'NCBDF':\n",
    "        stockDict.update( {'company' : 'Bandai Namco'} )\n",
    "            \n",
    "    # URL CONFIG FOR YAHOO FINANCE\n",
    "    link = f'https://finance.yahoo.com/quote/{stock}?p={stock}&.tsrc=fin-srch'\n",
    "    headers={'User-Agent':'Mozilla/5.0 (X11; Linux x86_64) AppleWebKit/537.36 (KHTML, like Gecko) Chrome/51.0.2704.103 Safari/537.36'}\n",
    "    source=requests.get(link, headers=headers).text\n",
    "    soup=bs(source,\"html.parser\")\n",
    "    \n",
    "    # SCRAPE THE STOCK INFORMATION\n",
    "    stockPrice = soup.find('span', class_='Trsdu(0.3s) Fw(b) Fz(36px) Mb(-4px) D(ib)').text.strip()\n",
    "    marketCap = soup.find('td', {'data-test':\"MARKET_CAP-value\"}).span.text\n",
    "    stockPrevious = soup.find('td', {'data-test':\"PREV_CLOSE-value\"}).span.text\n",
    "    stockOpen = soup.find('td', {'data-test':\"OPEN-value\"}).span.text\n",
    "    stockVolume = soup.find('td', {'data-test':\"TD_VOLUME-value\"}).span.text\n",
    "    avg3moVolume = soup.find('td', {'data-test':\"AVERAGE_VOLUME_3MONTH-value\"}).span.text\n",
    "    ftWeekRange = soup.find('td', {'data-test':\"FIFTY_TWO_WK_RANGE-value\"}).text\n",
    "    \n",
    "    # UPDATE STOCK DICTIONARY WITH COMPANY NAME AND STOCK INFO\n",
    "    stockDict.update( {'stock_ticker' : stock} )\n",
    "    stockDict.update( {'current_stock_price' : stockPrice} )\n",
    "    stockDict.update( {'market_cap' : marketCap} )\n",
    "    stockDict.update( {'previous_close' : stockPrevious} )\n",
    "    stockDict.update( {'stock_open' : stockOpen} )\n",
    "    stockDict.update( {'stock_volume' : stockVolume} )\n",
    "    stockDict.update( {'avg_3month_volume' : avg3moVolume} )\n",
    "    stockDict.update( {'52_week_range' : ftWeekRange} )\n",
    "    \n",
    "    return stockDict"
   ]
  },
  {
   "cell_type": "markdown",
   "metadata": {},
   "source": [
    "## Wrote a function to scrape an artice and its headline"
   ]
  },
  {
   "cell_type": "code",
   "execution_count": 45,
   "metadata": {},
   "outputs": [],
   "source": [
    "# ARTICLE INFO FUNCTION\n",
    "def artInfo(company):\n",
    "    # CREATE EMPTY DICTIONARY TO STORE INFORMATION\n",
    "    gcDict = {}\n",
    "    \n",
    "    # URL CONFIG FOR FORBES\n",
    "    link = f'https://www.forbes.com/search/?sort=recent&q={company}'\n",
    "    headers={'User-Agent':'Mozilla/5.0 (X11; Linux x86_64) AppleWebKit/537.36 (KHTML, like Gecko) Chrome/51.0.2704.103 Safari/537.36'}\n",
    "    source=requests.get(link, headers=headers).text\n",
    "    soup=bs(source,\"html.parser\")\n",
    "\n",
    "    # SCRAPE THE FIRST HEADLINE AND LINK TO THE ARTICLE\n",
    "    getHeadline=soup.find('a',class_=\"stream-item__title\").text\n",
    "    getLink=soup.findAll('a', {'class': 'stream-item__title'})[0]['href']   \n",
    "\n",
    "    # SCRAPE THE ARTICLE DESCRIPTION\n",
    "    getDesc = soup.find('div', class_='stream-item__description').text   \n",
    "    \n",
    "    # SCRAPE THE ARTICLE DATE\n",
    "    getDate=soup.find('div',class_=\"stream-item__date\").text\n",
    "                  \n",
    "    # COMPILE A DICTIONARY WITH INFO\n",
    "    gcDict.update({'headline' : getHeadline} )\n",
    "    gcDict.update( {'article_description' : getDesc} )\n",
    "    gcDict.update( {'article_url' : getLink} )\n",
    "    gcDict.update( {'article_date' : getDate} )\n",
    "\n",
    "    return gcDict"
   ]
  },
  {
   "cell_type": "markdown",
   "metadata": {},
   "source": [
    "## Wrote a function to run a sentiment analysis on the article and its headline"
   ]
  },
  {
   "cell_type": "code",
   "execution_count": 6,
   "metadata": {},
   "outputs": [],
   "source": [
    "# SENTIMENT ANALYSIS\n",
    "def SentAnal(sentFeed):\n",
    "    sentDict = {}\n",
    "    sentAnalysis = {}\n",
    "    sia = SIA() \n",
    "    sent_score = sia.polarity_scores(sentFeed)\n",
    "    sentAnalysis.update(sent_score)\n",
    "    finalScore = sentAnalysis['compound']\n",
    "    sentDict.update({'overall_sentiment_score' : finalScore})\n",
    "    sentDict.update( {\"input_sentiment_score\": \n",
    "        \"positive\" if finalScore > 0.28 else \n",
    "        \"negative\" if finalScore < -0.28 else \n",
    "        \"neutral\"\n",
    "    })\n",
    "    return sentDict"
   ]
  },
  {
   "cell_type": "markdown",
   "metadata": {},
   "source": [
    "## Passing the Nintendo stock into the stock function and gathering the data"
   ]
  },
  {
   "cell_type": "code",
   "execution_count": 10,
   "metadata": {},
   "outputs": [],
   "source": [
    "# PASSING IN THE '0' INDEX FROM THE STOCK LIST, WHICH IS NINTENDO\n",
    "myStock = stockInfo(stockList[0])"
   ]
  },
  {
   "cell_type": "code",
   "execution_count": 12,
   "metadata": {},
   "outputs": [],
   "source": [
    "company = myStock['company']\n",
    "ticker = myStock['stock_ticker']\n",
    "current_price = myStock['current_stock_price']\n",
    "prev_close = myStock['previous_close']\n",
    "stock_open = myStock['stock_open']\n",
    "stock_vol = myStock['stock_volume']\n",
    "avg_three_mo = myStock['avg_3month_volume']\n",
    "avg_fify_two = myStock['52_week_range']"
   ]
  },
  {
   "cell_type": "code",
   "execution_count": 29,
   "metadata": {},
   "outputs": [],
   "source": [
    "nl = '\\n'\n",
    "summary = (f'Company: {company} {nl}'\n",
    "           f'Ticker: {ticker} {nl}'\n",
    "           f'Current Price: {current_price} {nl}'\n",
    "           f'Previous Close: {prev_close} {nl}'\n",
    "           f'Stock Open: {stock_open} {nl}'\n",
    "           f'Stock Volume: {stock_vol} {nl}'\n",
    "           f'3-month Average: {avg_three_mo} {nl}'\n",
    "           f'52-week Average: {avg_fify_two}')"
   ]
  },
  {
   "cell_type": "code",
   "execution_count": 30,
   "metadata": {},
   "outputs": [
    {
     "name": "stdout",
     "output_type": "stream",
     "text": [
      "Company: Nintendo \n",
      "Ticker: NTDOY \n",
      "Current Price: 48.90 \n",
      "Previous Close: 48.43 \n",
      "Stock Open: 49.12 \n",
      "Stock Volume: 135,692 \n",
      "3-month Average: 286,053 \n",
      "52-week Average: 31.38 - 49.21\n"
     ]
    }
   ],
   "source": [
    "print(summary)"
   ]
  },
  {
   "cell_type": "markdown",
   "metadata": {},
   "source": [
    "## Passing the Nintendo stock into the article and Natural Language Processing functions and gathering the data"
   ]
  },
  {
   "cell_type": "code",
   "execution_count": 46,
   "metadata": {},
   "outputs": [],
   "source": [
    "myNews = artInfo(company)"
   ]
  },
  {
   "cell_type": "code",
   "execution_count": 50,
   "metadata": {},
   "outputs": [],
   "source": [
    "myHeadline = myNews['headline']\n",
    "myArticle = myNews['article_description']\n",
    "myArtLink = myNews['article_url']\n",
    "myArtDate = myNews['article_date']\n",
    "mySentHead = SentAnal(myNews['headline'])\n",
    "mySentBody = SentAnal(myNews['article_description'])"
   ]
  },
  {
   "cell_type": "code",
   "execution_count": 53,
   "metadata": {},
   "outputs": [],
   "source": [
    "sentiment = (f'Source: Forbes.com {nl}'\n",
    "             f'Published: {myArtDate} {nl}'\n",
    "             f'Article URL: {myArtLink} {nl}'\n",
    "             f'{nl}'\n",
    "             f'Headline: {myHeadline} {nl}'\n",
    "             f'{nl}'\n",
    "             f'Headline Sentiment Score: {mySentHead[\"overall_sentiment_score\"]} {nl}'\n",
    "             f'Overall Headline Sentiment: {mySentHead[\"input_sentiment_score\"]} {nl}'\n",
    "             f'{nl}'\n",
    "             f'Article Snippit: {myArticle} {nl}'\n",
    "             f'{nl}'\n",
    "             f'Snippit Sentiment Score: {mySentBody[\"overall_sentiment_score\"]} {nl}'\n",
    "             f'Overall Snippit Sentiment: {mySentBody[\"input_sentiment_score\"]} {nl}')"
   ]
  },
  {
   "cell_type": "code",
   "execution_count": 54,
   "metadata": {},
   "outputs": [
    {
     "name": "stdout",
     "output_type": "stream",
     "text": [
      "Source: Forbes.com \n",
      "Published: 7 hours ago \n",
      "Article URL: https://www.forbes.com/sites/davidthier/2019/09/18/the-legend-of-zelda-links-awakening-on-switch-release-date-and-5-things-to-know-before-you-play/ \n",
      "\n",
      "Headline: 'The Legend Of Zelda: Link's Awakening' On Switch: Release Date And 5 Things To Know Before You Play \n",
      "\n",
      "Headline Sentiment Score: 0.34 \n",
      "Overall Headline Sentiment: positive \n",
      "\n",
      "Article Snippit: 'The Legend of Zelda: Link's Awakening' is nearly here. Here's the release date and five things to know before you play. \n",
      "\n",
      "Snippit Sentiment Score: 0.34 \n",
      "Overall Snippit Sentiment: positive \n",
      "\n"
     ]
    }
   ],
   "source": [
    "print(sentiment)"
   ]
  },
  {
   "cell_type": "markdown",
   "metadata": {},
   "source": [
    "## Conclusion\n",
    "\n",
    "At the moment, there is no way to come to a definitive conlusion, however, this project was crated as a proof of concept. In the future, I will be collecting a 30 days of stock data, articles from different sources that correlate with the day(s) the stock information was collected, and social media sentiment. In the very near future, I will also be creating interactive graphs that will visually illustrate the data.\n",
    "\n",
    "Once this project is completed, I will be converting it to a Flask app with a HTML interface, where users can search for their own stocks and run their analysis."
   ]
  },
  {
   "cell_type": "code",
   "execution_count": null,
   "metadata": {},
   "outputs": [],
   "source": []
  }
 ],
 "metadata": {
  "kernelspec": {
   "display_name": "Python 3",
   "language": "python",
   "name": "python3"
  },
  "language_info": {
   "codemirror_mode": {
    "name": "ipython",
    "version": 3
   },
   "file_extension": ".py",
   "mimetype": "text/x-python",
   "name": "python",
   "nbconvert_exporter": "python",
   "pygments_lexer": "ipython3",
   "version": "3.6.6"
  }
 },
 "nbformat": 4,
 "nbformat_minor": 2
}
